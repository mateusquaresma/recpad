{
 "cells": [
  {
   "cell_type": "markdown",
   "metadata": {},
   "source": [
    "# Descrição do dataset\n",
    "\n",
    "Dados do SUS sobre a incidência de de dengue no Brasil"
   ]
  },
  {
   "cell_type": "code",
   "execution_count": 1,
   "metadata": {},
   "outputs": [],
   "source": [
    "import numpy as np\n",
    "import pandas as pd"
   ]
  },
  {
   "cell_type": "code",
   "execution_count": 2,
   "metadata": {},
   "outputs": [
    {
     "name": "stderr",
     "output_type": "stream",
     "text": [
      "/usr/local/anaconda3/lib/python3.6/site-packages/IPython/core/interactiveshell.py:2785: DtypeWarning: Columns (15,27,29,31,43,51,64,66,67,70,71,73,74,75,78,79,80,97,107) have mixed types. Specify dtype option on import or set low_memory=False.\n",
      "  interactivity=interactivity, compiler=compiler, result=result)\n"
     ]
    }
   ],
   "source": [
    "data = pd.read_csv('data/dengue_2000_dataset.csv', sep = ',')\n",
    "#data.head(5)\n",
    "data = data.dropna(axis = 1, how = 'all')\n",
    "data.to_csv('data/no_missing_columns.csv', sep=',')"
   ]
  },
  {
   "cell_type": "markdown",
   "metadata": {},
   "source": [
    "Número de instâncias"
   ]
  },
  {
   "cell_type": "code",
   "execution_count": 3,
   "metadata": {},
   "outputs": [
    {
     "data": {
      "text/plain": [
       "172855"
      ]
     },
     "execution_count": 3,
     "metadata": {},
     "output_type": "execute_result"
    }
   ],
   "source": [
    "data.shape[0]"
   ]
  },
  {
   "cell_type": "markdown",
   "metadata": {},
   "source": [
    "Número de características"
   ]
  },
  {
   "cell_type": "code",
   "execution_count": 4,
   "metadata": {},
   "outputs": [
    {
     "data": {
      "text/plain": [
       "108"
      ]
     },
     "execution_count": 4,
     "metadata": {},
     "output_type": "execute_result"
    }
   ],
   "source": [
    "data.shape[1] - 1"
   ]
  },
  {
   "cell_type": "markdown",
   "metadata": {},
   "source": [
    "Número de instâncias sem valores faltantes (missing values)"
   ]
  },
  {
   "cell_type": "code",
   "execution_count": 5,
   "metadata": {},
   "outputs": [
    {
     "data": {
      "text/plain": [
       "0"
      ]
     },
     "execution_count": 5,
     "metadata": {},
     "output_type": "execute_result"
    }
   ],
   "source": [
    "no_missing = data.dropna()\n",
    "no_missing.shape[0]"
   ]
  },
  {
   "cell_type": "markdown",
   "metadata": {},
   "source": [
    "Diferentes classificações no dataset"
   ]
  },
  {
   "cell_type": "code",
   "execution_count": 6,
   "metadata": {},
   "outputs": [
    {
     "data": {
      "text/plain": [
       "array([ 1.,  5., nan,  0.,  3.,  2.,  8.,  4.])"
      ]
     },
     "execution_count": 6,
     "metadata": {},
     "output_type": "execute_result"
    }
   ],
   "source": [
    "data['CON_CLASSI'].unique()"
   ]
  },
  {
   "cell_type": "code",
   "execution_count": 7,
   "metadata": {},
   "outputs": [
    {
     "data": {
      "text/plain": [
       "array([ 2., nan,  9.,  1.])"
      ]
     },
     "execution_count": 7,
     "metadata": {},
     "output_type": "execute_result"
    }
   ],
   "source": [
    "data['DENGUE'].unique()"
   ]
  },
  {
   "cell_type": "code",
   "execution_count": 8,
   "metadata": {},
   "outputs": [
    {
     "data": {
      "text/plain": [
       "array([ 1., nan,  2.,  9.])"
      ]
     },
     "execution_count": 8,
     "metadata": {},
     "output_type": "execute_result"
    }
   ],
   "source": [
    "data['FEBRE'].unique()"
   ]
  },
  {
   "cell_type": "code",
   "execution_count": 9,
   "metadata": {},
   "outputs": [
    {
     "data": {
      "text/plain": [
       "array([nan,  1.,  2.,  9.])"
      ]
     },
     "execution_count": 9,
     "metadata": {},
     "output_type": "execute_result"
    }
   ],
   "source": [
    "data['VACINADO'].unique()"
   ]
  },
  {
   "cell_type": "code",
   "execution_count": 10,
   "metadata": {},
   "outputs": [],
   "source": [
    "#data.isnull().head(5)\n",
    "series = data.isnull().sum()"
   ]
  },
  {
   "cell_type": "code",
   "execution_count": 11,
   "metadata": {},
   "outputs": [
    {
     "name": "stdout",
     "output_type": "stream",
     "text": [
      "167795\n",
      "71526\n",
      "99954\n",
      "172469\n",
      "164387\n",
      "78926\n",
      "172764\n",
      "170636\n",
      "170596\n",
      "89553\n",
      "168846\n",
      "168934\n",
      "172838\n",
      "52658\n",
      "52934\n",
      "168101\n",
      "168108\n",
      "168107\n",
      "53142\n",
      "172853\n",
      "54353\n",
      "55240\n",
      "168182\n",
      "54161\n",
      "168142\n",
      "168115\n",
      "52570\n",
      "168129\n",
      "168121\n",
      "169078\n",
      "172853\n",
      "168642\n",
      "172833\n",
      "172823\n",
      "172823\n",
      "169218\n",
      "169388\n",
      "172098\n",
      "172128\n",
      "121935\n",
      "172021\n",
      "171706\n",
      "172846\n",
      "125614\n",
      "168487\n",
      "168965\n",
      "169656\n",
      "172850\n",
      "172852\n",
      "164815\n",
      "172790\n",
      "172818\n",
      "172820\n",
      "171304\n",
      "167661\n",
      "167679\n",
      "172849\n",
      "172850\n",
      "172519\n",
      "172853\n",
      "172518\n",
      "98997\n",
      "96809\n",
      "154953\n",
      "158131\n",
      "172850\n",
      "142330\n",
      "160683\n",
      "68\n",
      "['CS_RACA', 'ID_BAIRRO', 'ID_DT_RESI', 'OCUPACAO', 'ANO', 'VACINADO', 'DT_DOSE', 'DT_FEBRE', 'DURACAO', 'LACO', 'DIARREIA', 'OUTROS', 'SIN_OUT', 'EPISTAXE', 'GENGIVO', 'METRO', 'HEMATURA', 'SANGRAM', 'OUTROS_M', 'OUTROS_M_D', 'ASCITE', 'PLEURAL', 'PERICARDI', 'HEPATO', 'MIOCARDI', 'HIPOTENSAO', 'CHOQUE', 'MANIFESTA', 'INSUFICIEN', 'OUTRO_S', 'DT_CHOQUE', 'HOSPITALIZ', 'DT_INTERNA', 'UF', 'MUNICIPIO', 'DT_COL_HEM', 'DT_COL_PLQ', 'DT_COL_HE2', 'DT_COL_PL2', 'DT_SORO1', 'DT_SORO2', 'DT_SOROR1', 'DT_SOROR2', 'S1_IGM', 'S1_IGG', 'S2_IGM', 'S2_IGG', 'S1_TIT1', 'S2_TIT1', 'MATERIAL', 'SORO1', 'SORO2', 'TECIDOS', 'RESUL_VIRA', 'HISTOPA', 'IMUNOH', 'AMOS_PCR', 'RESUL_PCR', 'AMOS_OUT', 'TECNICA', 'RESUL_OUT', 'CON_INF_MU', 'CON_INF_UF', 'CON_INF_PA', 'CON_DOENCA', 'CON_DT_OBI', 'CON_DT_ENC', 'NDUPLIC']\n"
     ]
    }
   ],
   "source": [
    "column_names = []\n",
    "for k, v in series.items():\n",
    "    if (data.shape[0] - v) / data.shape[0] < 0.7:\n",
    "        print(v)\n",
    "        column_names.append(k)\n",
    "        \n",
    "print(len(column_names)) \n",
    "print(column_names)"
   ]
  },
  {
   "cell_type": "code",
   "execution_count": 12,
   "metadata": {},
   "outputs": [
    {
     "name": "stdout",
     "output_type": "stream",
     "text": [
      "(172855, 41)\n"
     ]
    }
   ],
   "source": [
    "for c in column_names:\n",
    "    del data[c]\n",
    "    \n",
    "print(data.shape)"
   ]
  },
  {
   "cell_type": "code",
   "execution_count": 13,
   "metadata": {},
   "outputs": [],
   "source": [
    "only_eights = data[data['CON_CLASSI'] == 8]"
   ]
  },
  {
   "cell_type": "code",
   "execution_count": 15,
   "metadata": {},
   "outputs": [
    {
     "data": {
      "text/plain": [
       "455"
      ]
     },
     "execution_count": 15,
     "metadata": {},
     "output_type": "execute_result"
    }
   ],
   "source": [
    "only_eights.shape[0]"
   ]
  },
  {
   "cell_type": "code",
   "execution_count": null,
   "metadata": {},
   "outputs": [],
   "source": []
  }
 ],
 "metadata": {
  "kernelspec": {
   "display_name": "Python 3",
   "language": "python",
   "name": "python3"
  },
  "language_info": {
   "codemirror_mode": {
    "name": "ipython",
    "version": 3
   },
   "file_extension": ".py",
   "mimetype": "text/x-python",
   "name": "python",
   "nbconvert_exporter": "python",
   "pygments_lexer": "ipython3",
   "version": "3.6.5"
  }
 },
 "nbformat": 4,
 "nbformat_minor": 2
}
