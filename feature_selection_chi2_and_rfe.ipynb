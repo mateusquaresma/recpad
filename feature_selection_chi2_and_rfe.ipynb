{
 "cells": [
  {
   "cell_type": "code",
   "execution_count": 1,
   "metadata": {},
   "outputs": [],
   "source": [
    "import datetime\n",
    "import time\n",
    "import pandas as pd\n",
    "import numpy as np\n",
    "from sklearn.feature_selection import SelectKBest\n",
    "from sklearn.feature_selection import chi2\n",
    "from sklearn.feature_selection import f_classif\n",
    "from sklearn.preprocessing import MinMaxScaler"
   ]
  },
  {
   "cell_type": "code",
   "execution_count": 2,
   "metadata": {},
   "outputs": [],
   "source": [
    "def parse_age(value):\n",
    "    result = 0\n",
    "    \n",
    "    if value == np.nan:\n",
    "        return np.nan\n",
    "        \n",
    "    try:\n",
    "        if 'A' in value:\n",
    "            result = float(value.replace('A', ''))              \n",
    "        elif 'M' in value:    \n",
    "            result = float(value.replace('M', '')) / 12\n",
    "        elif 'D' in value:    \n",
    "            result = float(value.replace('D', '')) / 365\n",
    "        \n",
    "        return result\n",
    "    except:\n",
    "        return result"
   ]
  },
  {
   "cell_type": "code",
   "execution_count": 3,
   "metadata": {},
   "outputs": [],
   "source": [
    "def parse_job(value):\n",
    "    \n",
    "    if value == np.nan:\n",
    "        return np.nan\n",
    "    \n",
    "    try:\n",
    "        if 'X' in value:\n",
    "            return value.replace('X', '')\n",
    "    except:\n",
    "        return np.nan"
   ]
  },
  {
   "cell_type": "code",
   "execution_count": 4,
   "metadata": {},
   "outputs": [],
   "source": [
    "def parse_week(value):\n",
    "    if value == np.nan:\n",
    "        result = 0.0\n",
    "    else:        \n",
    "        temp = str(value)[:-4]\n",
    "        if temp:\n",
    "            result = float(temp)\n",
    "        else: \n",
    "            result = 0.0\n",
    "        \n",
    "    return result    "
   ]
  },
  {
   "cell_type": "code",
   "execution_count": 5,
   "metadata": {},
   "outputs": [
    {
     "name": "stdout",
     "output_type": "stream",
     "text": [
      "tempo para carregar o dataset = 00:00:00\n"
     ]
    }
   ],
   "source": [
    "now = time.time()\n",
    "df = pd.read_csv('Data/2000-2010/DENGUE_2000_2006.tsv', sep = '\\t', nrows=1000000, dtype = 'unicode')\n",
    "#df = pd.read_csv('Data/2000-2010/dengue_2001_dataset.csv', sep = ',', nrows=50000, encoding='cp1252', dtype = 'unicode')\n",
    "print('tempo para carregar o dataset = ' + time.strftime(\"%H:%M:%S\", time.gmtime(time.time() - now)))"
   ]
  },
  {
   "cell_type": "code",
   "execution_count": 6,
   "metadata": {},
   "outputs": [
    {
     "name": "stdout",
     "output_type": "stream",
     "text": [
      "Quantidade de características iniciais: (1000, 113)\n",
      "Quantidade de características classificadas: (1000, 113)\n"
     ]
    }
   ],
   "source": [
    "print('Quantidade de características iniciais: ' + str(df.shape))\n",
    "df = df.query(\"CON_CLASSI in ['1', '2', '3', '4', '5']\")\n",
    "print('Quantidade de características classificadas: ' + str(df.shape))"
   ]
  },
  {
   "cell_type": "code",
   "execution_count": 7,
   "metadata": {},
   "outputs": [
    {
     "name": "stdout",
     "output_type": "stream",
     "text": [
      "tempo de pré-processamento = 00:00:00\n"
     ]
    }
   ],
   "source": [
    "now = time.time()\n",
    "df.columns.values\n",
    "hand_picked_features = [\n",
    "    'CS_RACA', 'CS_ESCOLAR', 'NU_IDADE', 'CS_SEXO', \n",
    "    'CS_ZONA', 'ID_MN_RESI', 'DENGUE', 'OCUPACAO', 'SEM_PRI',\n",
    "    'NU_ANO', 'VACINADO', 'FEBRE', 'DURACAO', 'LACO', \n",
    "    'CEFALEIA', 'EXANTEMA', 'DOR', 'PROSTACAO', 'MIALGIA',\n",
    "    'NAUSEAS', 'ARTRALGIA', 'DIARREIA', 'OUTROS', 'INSUFICIEN',\n",
    "    'EPISTAXE', 'PETEQUIAS', 'GENGIVO', 'METRO', 'HEMATURA', \n",
    "    'SANGRAM', 'ASCITE', 'PLEURAL', 'PERICARDI', 'ABDOMINAL', \n",
    "    'HEPATO', 'MIOCARDI', 'HIPOTENSAO', 'CHOQUE', 'MANIFESTA']\n",
    "label = 'CON_CLASSI'\n",
    "\n",
    "df['NU_IDADE'] = df['NU_IDADE'].apply(parse_age).astype('float64')\n",
    "df['NU_ANO'] = df['NU_ANO'].astype('float64')\n",
    "df['OCUPACAO'] = df['OCUPACAO'].apply(parse_job)\n",
    "df = df.fillna(value={'OCUPACAO':0})\n",
    "df['OCUPACAO'] = df['OCUPACAO'].astype('category')\n",
    "df['SEM_PRI'] = df['SEM_PRI'].apply(parse_week).astype('float64')\n",
    "\n",
    "X = df.loc[:, hand_picked_features]\n",
    "y = df.loc[:, label]\n",
    "\n",
    "# X = X.iloc[2400:2600, :]\n",
    "# y = y.iloc[2400:2600]\n",
    "# y = y.fillna(0).astype('int64')\n",
    "\n",
    "# X.to_csv('Data/2000-2010/fs_dengue_2001_dataset.csv', sep = '\\t')\n",
    "print('tempo de pré-processamento = ' + time.strftime(\"%H:%M:%S\", time.gmtime(time.time() - now)))"
   ]
  },
  {
   "cell_type": "code",
   "execution_count": 8,
   "metadata": {},
   "outputs": [],
   "source": [
    "# print(X.shape)\n",
    "# print(y.shape)\n",
    "# print(X.columns.values)"
   ]
  },
  {
   "cell_type": "code",
   "execution_count": 9,
   "metadata": {},
   "outputs": [
    {
     "name": "stdout",
     "output_type": "stream",
     "text": [
      "tempo para normalizar 3 características = 00:00:00\n"
     ]
    }
   ],
   "source": [
    "now = time.time()\n",
    "columns_to_scale = ['NU_IDADE', 'NU_ANO', 'SEM_PRI']\n",
    "X[columns_to_scale] = MinMaxScaler().fit_transform(X[columns_to_scale])\n",
    "print('tempo para normalizar %s características = %s' % (len(columns_to_scale), \n",
    "                                                         time.strftime(\"%H:%M:%S\", time.gmtime(time.time() - now))))"
   ]
  },
  {
   "cell_type": "code",
   "execution_count": 10,
   "metadata": {},
   "outputs": [
    {
     "name": "stdout",
     "output_type": "stream",
     "text": [
      "tempo do OHE = 00:00:00\n"
     ]
    }
   ],
   "source": [
    "now = time.time()\n",
    "new_X = pd.get_dummies(X) \n",
    "print('tempo do OHE = %s' % (time.strftime(\"%H:%M:%S\", time.gmtime(time.time() - now))))"
   ]
  },
  {
   "cell_type": "code",
   "execution_count": 11,
   "metadata": {},
   "outputs": [
    {
     "data": {
      "text/html": [
       "<div>\n",
       "<style scoped>\n",
       "    .dataframe tbody tr th:only-of-type {\n",
       "        vertical-align: middle;\n",
       "    }\n",
       "\n",
       "    .dataframe tbody tr th {\n",
       "        vertical-align: top;\n",
       "    }\n",
       "\n",
       "    .dataframe thead th {\n",
       "        text-align: right;\n",
       "    }\n",
       "</style>\n",
       "<table border=\"1\" class=\"dataframe\">\n",
       "  <thead>\n",
       "    <tr style=\"text-align: right;\">\n",
       "      <th></th>\n",
       "      <th>NU_IDADE</th>\n",
       "      <th>SEM_PRI</th>\n",
       "      <th>NU_ANO</th>\n",
       "      <th>CS_RACA_9</th>\n",
       "      <th>CS_ESCOLAR_1</th>\n",
       "      <th>CS_ESCOLAR_3</th>\n",
       "      <th>CS_ESCOLAR_4</th>\n",
       "      <th>CS_ESCOLAR_5</th>\n",
       "      <th>CS_ESCOLAR_6</th>\n",
       "      <th>CS_ESCOLAR_9</th>\n",
       "      <th>...</th>\n",
       "      <th>PLEURAL_9</th>\n",
       "      <th>ABDOMINAL_1</th>\n",
       "      <th>ABDOMINAL_2</th>\n",
       "      <th>ABDOMINAL_9</th>\n",
       "      <th>HEPATO_1</th>\n",
       "      <th>HEPATO_2</th>\n",
       "      <th>HEPATO_9</th>\n",
       "      <th>CHOQUE_1</th>\n",
       "      <th>CHOQUE_2</th>\n",
       "      <th>CHOQUE_9</th>\n",
       "    </tr>\n",
       "  </thead>\n",
       "  <tbody>\n",
       "    <tr>\n",
       "      <th>0</th>\n",
       "      <td>0.605249</td>\n",
       "      <td>0.921569</td>\n",
       "      <td>0.0</td>\n",
       "      <td>0</td>\n",
       "      <td>0</td>\n",
       "      <td>1</td>\n",
       "      <td>0</td>\n",
       "      <td>0</td>\n",
       "      <td>0</td>\n",
       "      <td>0</td>\n",
       "      <td>...</td>\n",
       "      <td>0</td>\n",
       "      <td>1</td>\n",
       "      <td>0</td>\n",
       "      <td>0</td>\n",
       "      <td>0</td>\n",
       "      <td>1</td>\n",
       "      <td>0</td>\n",
       "      <td>1</td>\n",
       "      <td>0</td>\n",
       "      <td>0</td>\n",
       "    </tr>\n",
       "    <tr>\n",
       "      <th>1</th>\n",
       "      <td>0.302606</td>\n",
       "      <td>0.274510</td>\n",
       "      <td>0.0</td>\n",
       "      <td>0</td>\n",
       "      <td>0</td>\n",
       "      <td>1</td>\n",
       "      <td>0</td>\n",
       "      <td>0</td>\n",
       "      <td>0</td>\n",
       "      <td>0</td>\n",
       "      <td>...</td>\n",
       "      <td>0</td>\n",
       "      <td>1</td>\n",
       "      <td>0</td>\n",
       "      <td>0</td>\n",
       "      <td>0</td>\n",
       "      <td>1</td>\n",
       "      <td>0</td>\n",
       "      <td>0</td>\n",
       "      <td>1</td>\n",
       "      <td>0</td>\n",
       "    </tr>\n",
       "    <tr>\n",
       "      <th>2</th>\n",
       "      <td>0.263131</td>\n",
       "      <td>0.254902</td>\n",
       "      <td>0.0</td>\n",
       "      <td>0</td>\n",
       "      <td>0</td>\n",
       "      <td>0</td>\n",
       "      <td>0</td>\n",
       "      <td>0</td>\n",
       "      <td>1</td>\n",
       "      <td>0</td>\n",
       "      <td>...</td>\n",
       "      <td>0</td>\n",
       "      <td>1</td>\n",
       "      <td>0</td>\n",
       "      <td>0</td>\n",
       "      <td>0</td>\n",
       "      <td>0</td>\n",
       "      <td>0</td>\n",
       "      <td>0</td>\n",
       "      <td>0</td>\n",
       "      <td>0</td>\n",
       "    </tr>\n",
       "    <tr>\n",
       "      <th>3</th>\n",
       "      <td>0.394715</td>\n",
       "      <td>0.705882</td>\n",
       "      <td>0.0</td>\n",
       "      <td>0</td>\n",
       "      <td>0</td>\n",
       "      <td>1</td>\n",
       "      <td>0</td>\n",
       "      <td>0</td>\n",
       "      <td>0</td>\n",
       "      <td>0</td>\n",
       "      <td>...</td>\n",
       "      <td>0</td>\n",
       "      <td>1</td>\n",
       "      <td>0</td>\n",
       "      <td>0</td>\n",
       "      <td>0</td>\n",
       "      <td>0</td>\n",
       "      <td>1</td>\n",
       "      <td>0</td>\n",
       "      <td>1</td>\n",
       "      <td>0</td>\n",
       "    </tr>\n",
       "    <tr>\n",
       "      <th>4</th>\n",
       "      <td>0.105231</td>\n",
       "      <td>0.941176</td>\n",
       "      <td>0.0</td>\n",
       "      <td>0</td>\n",
       "      <td>0</td>\n",
       "      <td>0</td>\n",
       "      <td>0</td>\n",
       "      <td>0</td>\n",
       "      <td>1</td>\n",
       "      <td>0</td>\n",
       "      <td>...</td>\n",
       "      <td>0</td>\n",
       "      <td>0</td>\n",
       "      <td>0</td>\n",
       "      <td>0</td>\n",
       "      <td>0</td>\n",
       "      <td>0</td>\n",
       "      <td>0</td>\n",
       "      <td>0</td>\n",
       "      <td>0</td>\n",
       "      <td>0</td>\n",
       "    </tr>\n",
       "  </tbody>\n",
       "</table>\n",
       "<p>5 rows × 82 columns</p>\n",
       "</div>"
      ],
      "text/plain": [
       "   NU_IDADE   SEM_PRI  NU_ANO  CS_RACA_9  CS_ESCOLAR_1  CS_ESCOLAR_3  \\\n",
       "0  0.605249  0.921569     0.0          0             0             1   \n",
       "1  0.302606  0.274510     0.0          0             0             1   \n",
       "2  0.263131  0.254902     0.0          0             0             0   \n",
       "3  0.394715  0.705882     0.0          0             0             1   \n",
       "4  0.105231  0.941176     0.0          0             0             0   \n",
       "\n",
       "   CS_ESCOLAR_4  CS_ESCOLAR_5  CS_ESCOLAR_6  CS_ESCOLAR_9    ...     \\\n",
       "0             0             0             0             0    ...      \n",
       "1             0             0             0             0    ...      \n",
       "2             0             0             1             0    ...      \n",
       "3             0             0             0             0    ...      \n",
       "4             0             0             1             0    ...      \n",
       "\n",
       "   PLEURAL_9  ABDOMINAL_1  ABDOMINAL_2  ABDOMINAL_9  HEPATO_1  HEPATO_2  \\\n",
       "0          0            1            0            0         0         1   \n",
       "1          0            1            0            0         0         1   \n",
       "2          0            1            0            0         0         0   \n",
       "3          0            1            0            0         0         0   \n",
       "4          0            0            0            0         0         0   \n",
       "\n",
       "   HEPATO_9  CHOQUE_1  CHOQUE_2  CHOQUE_9  \n",
       "0         0         1         0         0  \n",
       "1         0         0         1         0  \n",
       "2         0         0         0         0  \n",
       "3         1         0         1         0  \n",
       "4         0         0         0         0  \n",
       "\n",
       "[5 rows x 82 columns]"
      ]
     },
     "execution_count": 11,
     "metadata": {},
     "output_type": "execute_result"
    }
   ],
   "source": [
    "#print(new_X.shape)\n",
    "#print(type(new_X))\n",
    "new_X.head()\n"
   ]
  },
  {
   "cell_type": "code",
   "execution_count": 12,
   "metadata": {},
   "outputs": [
    {
     "name": "stdout",
     "output_type": "stream",
     "text": [
      "tempo para aplicar o qui-quadrado = 00:00:00\n"
     ]
    },
    {
     "data": {
      "text/plain": [
       "SelectKBest(k='all', score_func=<function chi2 at 0x115d150d0>)"
      ]
     },
     "execution_count": 12,
     "metadata": {},
     "output_type": "execute_result"
    }
   ],
   "source": [
    "now = time.time()\n",
    "kbest_result = SelectKBest(chi2, k='all').fit(new_X, y)\n",
    "print('tempo para aplicar o qui-quadrado = %s' % (time.strftime(\"%H:%M:%S\", time.gmtime(time.time() - now))))\n",
    "kbest_result"
   ]
  },
  {
   "cell_type": "code",
   "execution_count": 13,
   "metadata": {},
   "outputs": [
    {
     "name": "stdout",
     "output_type": "stream",
     "text": [
      "Quantidade de características: 82\n",
      "Pontuações [mínima: 0.0, média: 8.079842043087616, máxima: 92.47067813566734, desvio padrão: 18.401590224023092]\n",
      "Quantidade de características selecionadas: 16\n",
      "Quantidade de características abaixo da média: 66\n",
      "Quantidade de características acima da média: 16\n"
     ]
    }
   ],
   "source": [
    "\n",
    "scores = np.nan_to_num(kbest_result.scores_)\n",
    "print('Quantidade de características: ' + str(len(scores)))\n",
    "\n",
    "min_score = np.min(scores)\n",
    "mean = np.mean(scores)\n",
    "max_score = np.max(scores)\n",
    "std = np.std(scores)\n",
    "\n",
    "\n",
    "print('Pontuações [mínima: ' + str(min_score) + \n",
    "      ', média: ' + str(mean) + \n",
    "      ', máxima: ' + str(max_score) + \n",
    "      ', desvio padrão: ' + str(std) + ']')\n",
    "\n",
    "total_features = new_X.shape[1]\n",
    "selected_indices = np.where(scores > mean)\n",
    "possible_outliers = np.where(scores > 1000)[0]\n",
    "mask = selected_indices[0]\n",
    "n_features = len(mask)\n",
    "print('Quantidade de características selecionadas: ' + str(len(mask)))\n",
    "print('Quantidade de características abaixo da média: ' + str(total_features - len(mask)))\n",
    "print('Quantidade de características acima da média: ' + str(len(mask)))"
   ]
  },
  {
   "cell_type": "code",
   "execution_count": 14,
   "metadata": {},
   "outputs": [],
   "source": [
    "#print(len(kbest_result.pvalues_))\n",
    "#kbest_result.pvalues_"
   ]
  },
  {
   "cell_type": "code",
   "execution_count": 15,
   "metadata": {},
   "outputs": [],
   "source": [
    "# mask = kbest_result.get_support(indices=True)\n",
    "# print(mask)\n",
    "kbest_df = new_X.iloc[:, mask]\n",
    "#print(kbest_df.shape)\n",
    "#kbest_df.head()"
   ]
  },
  {
   "cell_type": "markdown",
   "metadata": {},
   "source": [
    "Características selecionadas:"
   ]
  },
  {
   "cell_type": "code",
   "execution_count": 16,
   "metadata": {},
   "outputs": [
    {
     "data": {
      "text/plain": [
       "array(['CS_ESCOLAR_6', 'FEBRE_2', 'CEFALEIA_1', 'CEFALEIA_2', 'DOR_1',\n",
       "       'DOR_2', 'PROSTACAO_1', 'MIALGIA_1', 'MIALGIA_2', 'NAUSEAS_1',\n",
       "       'ARTRALGIA_1', 'ARTRALGIA_2', 'PETEQUIAS_1', 'PLEURAL_9',\n",
       "       'ABDOMINAL_1', 'CHOQUE_1'], dtype=object)"
      ]
     },
     "execution_count": 16,
     "metadata": {},
     "output_type": "execute_result"
    }
   ],
   "source": [
    "kbest_df.columns.values"
   ]
  },
  {
   "cell_type": "code",
   "execution_count": 17,
   "metadata": {},
   "outputs": [
    {
     "data": {
      "text/plain": [
       "array([], dtype=object)"
      ]
     },
     "execution_count": 17,
     "metadata": {},
     "output_type": "execute_result"
    }
   ],
   "source": [
    "new_X.iloc[:, possible_outliers].columns.values"
   ]
  },
  {
   "cell_type": "code",
   "execution_count": 18,
   "metadata": {},
   "outputs": [],
   "source": [
    "# print(np.unique(new_X['ID_MN_RESI_1302603'], return_counts=True))\n",
    "# print(np.unique(new_X['ID_MN_RESI_3147006'], return_counts=True))\n",
    "# print(np.unique(new_X['ID_MN_RESI_3205309'], return_counts=True))\n",
    "# print(np.unique(new_X['MIALGIA_2'], return_counts=True))"
   ]
  },
  {
   "cell_type": "markdown",
   "metadata": {},
   "source": [
    "# Método RFE"
   ]
  },
  {
   "cell_type": "code",
   "execution_count": 19,
   "metadata": {},
   "outputs": [],
   "source": [
    "from sklearn.feature_selection import RFE\n",
    "from sklearn.svm import SVR"
   ]
  },
  {
   "cell_type": "code",
   "execution_count": 20,
   "metadata": {},
   "outputs": [
    {
     "name": "stdout",
     "output_type": "stream",
     "text": [
      "Fitting estimator with 82 features.\n",
      "Fitting estimator with 74 features.\n",
      "Fitting estimator with 66 features.\n",
      "Fitting estimator with 58 features.\n",
      "Fitting estimator with 50 features.\n",
      "Fitting estimator with 42 features.\n",
      "Fitting estimator with 34 features.\n",
      "Fitting estimator with 26 features.\n",
      "Fitting estimator with 18 features.\n",
      "tempo para selectionar 16 características com o RFE = 00:00:00\n"
     ]
    }
   ],
   "source": [
    "now = time.time()\n",
    "estimator = SVR(kernel=\"linear\")\n",
    "selector = RFE(estimator=estimator, n_features_to_select=n_features, step=0.10, verbose=1)\n",
    "selector = selector.fit(new_X, y)\n",
    "print('tempo para selectionar %s características com o RFE = %s' % (n_features, time.strftime(\"%H:%M:%S\", time.gmtime(time.time() - now))))"
   ]
  },
  {
   "cell_type": "code",
   "execution_count": 21,
   "metadata": {},
   "outputs": [
    {
     "data": {
      "text/plain": [
       "array(['CS_ESCOLAR_9', 'ID_MN_RESI_1200013', 'ID_MN_RESI_1200708',\n",
       "       'ID_MN_RESI_2509370', 'FEBRE_1', 'FEBRE_2', 'CEFALEIA_1',\n",
       "       'CEFALEIA_2', 'CEFALEIA_9', 'EXANTEMA_9', 'DOR_1', 'DOR_2',\n",
       "       'ASCITE_9', 'PLEURAL_9', 'ABDOMINAL_9', 'CHOQUE_9'], dtype=object)"
      ]
     },
     "execution_count": 21,
     "metadata": {},
     "output_type": "execute_result"
    }
   ],
   "source": [
    "new_X.loc[:, selector.support_].columns.values"
   ]
  },
  {
   "cell_type": "code",
   "execution_count": null,
   "metadata": {},
   "outputs": [],
   "source": []
  }
 ],
 "metadata": {
  "kernelspec": {
   "display_name": "Python 3",
   "language": "python",
   "name": "python3"
  },
  "language_info": {
   "codemirror_mode": {
    "name": "ipython",
    "version": 3
   },
   "file_extension": ".py",
   "mimetype": "text/x-python",
   "name": "python",
   "nbconvert_exporter": "python",
   "pygments_lexer": "ipython3",
   "version": "3.6.5"
  }
 },
 "nbformat": 4,
 "nbformat_minor": 2
}
