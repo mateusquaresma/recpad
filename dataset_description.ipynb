{
 "cells": [
  {
   "cell_type": "markdown",
   "metadata": {},
   "source": [
    "# Descrição do dataset\n",
    "\n",
    "Dados do SUS sobre a incidência de de dengue no Brasil"
   ]
  },
  {
   "cell_type": "code",
   "execution_count": 1,
   "metadata": {},
   "outputs": [],
   "source": [
    "import numpy as np\n",
    "import pandas as pd"
   ]
  },
  {
   "cell_type": "code",
   "execution_count": 2,
   "metadata": {},
   "outputs": [],
   "source": [
    "data = pd.read_csv('data/sample_dataset.csv', sep = ',')\n",
    "#data.head(5)\n",
    "data = data.dropna(axis = 1, how = 'all')\n",
    "data.to_csv('data/no_missing_columns.csv', sep=',')"
   ]
  },
  {
   "cell_type": "markdown",
   "metadata": {},
   "source": [
    "Número de instâncias"
   ]
  },
  {
   "cell_type": "code",
   "execution_count": 3,
   "metadata": {},
   "outputs": [
    {
     "data": {
      "text/plain": [
       "303"
      ]
     },
     "execution_count": 3,
     "metadata": {},
     "output_type": "execute_result"
    }
   ],
   "source": [
    "data.shape[0]"
   ]
  },
  {
   "cell_type": "markdown",
   "metadata": {},
   "source": [
    "Número de características"
   ]
  },
  {
   "cell_type": "code",
   "execution_count": 4,
   "metadata": {},
   "outputs": [
    {
     "data": {
      "text/plain": [
       "93"
      ]
     },
     "execution_count": 4,
     "metadata": {},
     "output_type": "execute_result"
    }
   ],
   "source": [
    "data.shape[1] - 1"
   ]
  },
  {
   "cell_type": "markdown",
   "metadata": {},
   "source": [
    "Número de instâncias sem valores faltantes (missing values)"
   ]
  },
  {
   "cell_type": "code",
   "execution_count": 5,
   "metadata": {},
   "outputs": [
    {
     "data": {
      "text/plain": [
       "0"
      ]
     },
     "execution_count": 5,
     "metadata": {},
     "output_type": "execute_result"
    }
   ],
   "source": [
    "no_missing = data.dropna()\n",
    "no_missing.shape[0]"
   ]
  },
  {
   "cell_type": "markdown",
   "metadata": {},
   "source": [
    "Diferentes classificações no dataset"
   ]
  },
  {
   "cell_type": "code",
   "execution_count": 6,
   "metadata": {},
   "outputs": [
    {
     "data": {
      "text/plain": [
       "array([5, 1])"
      ]
     },
     "execution_count": 6,
     "metadata": {},
     "output_type": "execute_result"
    }
   ],
   "source": [
    "data['con_classi'].unique()"
   ]
  },
  {
   "cell_type": "code",
   "execution_count": 7,
   "metadata": {},
   "outputs": [
    {
     "data": {
      "text/plain": [
       "array(['id_municip', 'id_unidade', 'nu_notific', 'dt_notific', 'cs_raca',\n",
       "       'cs_escolar', 'nu_ano', 'sem_not', 'sg_uf_not', 'dt_sin_pri',\n",
       "       'sem_pri', 'dt_nasc', 'nu_idade', 'cs_sexo', 'id_bairro',\n",
       "       'id_mn_resi', 'cs_zona', 'sg_uf', 'id_pais', 'id_dg_not',\n",
       "       'id_ev_not', 'ant_dt_inv', 'ocupacao', 'dengue', 'ano', 'vacinado',\n",
       "       'dt_dose', 'febre', 'dt_febre', 'duracao', 'laco', 'cefaleia',\n",
       "       'exantema', 'dor', 'prostacao', 'mialgia', 'nauseas', 'artralgia',\n",
       "       'diarreia', 'outros', 'sin_out', 'epistaxe', 'petequias',\n",
       "       'gengivo', 'metro', 'hematura', 'sangram', 'outros_m',\n",
       "       'outros_m_d', 'ascite', 'pleural', 'pericardi', 'abdominal',\n",
       "       'hepato', 'miocardi', 'hipotensao', 'choque', 'manifesta',\n",
       "       'insuficien', 'outro_s', 'hospitaliz', 'dt_interna', 'uf',\n",
       "       'municipio', 'dt_col_hem', 'hema_maior', 'dt_col_plq',\n",
       "       'palq_maior', 'dt_col_he2', 'hema_menor', 'plaq_menor', 'dt_soro1',\n",
       "       'dt_soror1', 's1_igm', 's1_igg', 'material', 'soro1', 'soro2',\n",
       "       'tecidos', 'histopa', 'imunoh', 'resul_pcr', 'amos_out',\n",
       "       'resul_out', 'con_classi', 'con_criter', 'con_inf_mu',\n",
       "       'con_inf_uf', 'con_inf_pa', 'con_doenca', 'con_evoluc',\n",
       "       'con_dt_enc', 'nduplic', 'nu_lote'], dtype=object)"
      ]
     },
     "execution_count": 7,
     "metadata": {},
     "output_type": "execute_result"
    }
   ],
   "source": [
    "data.columns.values"
   ]
  },
  {
   "cell_type": "code",
   "execution_count": null,
   "metadata": {},
   "outputs": [],
   "source": []
  }
 ],
 "metadata": {
  "kernelspec": {
   "display_name": "Python 3",
   "language": "python",
   "name": "python3"
  },
  "language_info": {
   "codemirror_mode": {
    "name": "ipython",
    "version": 3
   },
   "file_extension": ".py",
   "mimetype": "text/x-python",
   "name": "python",
   "nbconvert_exporter": "python",
   "pygments_lexer": "ipython3",
   "version": "3.6.5"
  }
 },
 "nbformat": 4,
 "nbformat_minor": 2
}
