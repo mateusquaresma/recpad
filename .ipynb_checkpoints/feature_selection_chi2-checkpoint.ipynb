{
 "cells": [
  {
   "cell_type": "code",
   "execution_count": 1,
   "metadata": {},
   "outputs": [],
   "source": [
    "import pandas as pd\n",
    "import numpy as np\n",
    "from sklearn.feature_selection import SelectKBest\n",
    "from sklearn.feature_selection import chi2"
   ]
  },
  {
   "cell_type": "code",
   "execution_count": 2,
   "metadata": {},
   "outputs": [],
   "source": [
    "def parse_age(value):\n",
    "    result = 0\n",
    "    \n",
    "    if value == np.nan:\n",
    "        return np.nan\n",
    "        \n",
    "    try:\n",
    "        if 'A' in value:\n",
    "            result = float(value.replace('A', ''))              \n",
    "        elif 'M' in value:    \n",
    "            result = float(value.replace('M', '')) / 12\n",
    "        elif 'D' in value:    \n",
    "            result = float(value.replace('D', '')) / 365\n",
    "        \n",
    "        return result\n",
    "    except:\n",
    "        return result"
   ]
  },
  {
   "cell_type": "code",
   "execution_count": 3,
   "metadata": {},
   "outputs": [],
   "source": [
    "def parse_job(value):\n",
    "    \n",
    "    if value == np.nan:\n",
    "        return np.nan\n",
    "    \n",
    "    try:\n",
    "        if 'X' in value:\n",
    "            return value.replace('X', '')\n",
    "    except:\n",
    "        return np.nan"
   ]
  },
  {
   "cell_type": "code",
   "execution_count": 4,
   "metadata": {},
   "outputs": [],
   "source": [
    "df = pd.read_csv('Data/2000-2010/DENGUE_2000_2006.tsv', sep = '\\t', nrows=30000, dtype = 'unicode')\n",
    "#df = pd.read_csv('Data/2000-2010/dengue_2001_dataset.csv', sep = ',', nrows=50000, encoding='cp1252', dtype = 'unicode')"
   ]
  },
  {
   "cell_type": "code",
   "execution_count": 5,
   "metadata": {},
   "outputs": [],
   "source": [
    "df.columns.values\n",
    "hand_picked_features = [\n",
    "    'CS_RACA', 'CS_ESCOLAR', 'NU_IDADE', 'CS_SEXO',\n",
    "    'CS_ZONA', 'ID_MN_RESI', 'DENGUE', 'OCUPACAO', \n",
    "    'NU_ANO', 'VACINADO', 'FEBRE', 'DURACAO', 'LACO', \n",
    "    'CEFALEIA', 'EXANTEMA', 'DOR', 'PROSTACAO', 'MIALGIA',\n",
    "    'NAUSEAS', 'ARTRALGIA', 'DIARREIA', 'OUTROS', 'INSUFICIEN',\n",
    "    'EPISTAXE', 'PETEQUIAS', 'GENGIVO', 'METRO', 'HEMATURA', \n",
    "    'SANGRAM', 'ASCITE', 'PLEURAL', 'PERICARDI', 'ABDOMINAL', \n",
    "    'HEPATO', 'MIOCARDI', 'HIPOTENSAO', 'CHOQUE', 'MANIFESTA']\n",
    "label = 'CON_CLASSI'\n",
    "\n",
    "df['NU_IDADE'] = df['NU_IDADE'].apply(parse_age).astype('int64')\n",
    "df['NU_ANO'] = df['NU_ANO'].astype('int64')\n",
    "df['OCUPACAO'] = df['OCUPACAO'].apply(parse_job)\n",
    "df = df.fillna(value={'OCUPACAO':0})\n",
    "df['OCUPACAO'] = df['OCUPACAO'].astype('category')\n",
    "\n",
    "\n",
    "X = df.loc[:, hand_picked_features]\n",
    "y = df.loc[:, label]\n",
    "\n",
    "# X = X.iloc[2400:2600, :]\n",
    "# y = y.iloc[2400:2600]\n",
    "y = y.fillna(0).astype('int64')\n",
    "\n",
    "# X.to_csv('Data/2000-2010/fs_dengue_2001_dataset.csv', sep = '\\t')"
   ]
  },
  {
   "cell_type": "code",
   "execution_count": 6,
   "metadata": {},
   "outputs": [
    {
     "name": "stdout",
     "output_type": "stream",
     "text": [
      "(300000, 38)\n",
      "(300000,)\n"
     ]
    }
   ],
   "source": [
    "print(X.shape)\n",
    "print(y.shape)"
   ]
  },
  {
   "cell_type": "code",
   "execution_count": 7,
   "metadata": {},
   "outputs": [],
   "source": [
    "new_X = pd.get_dummies(X)               "
   ]
  },
  {
   "cell_type": "code",
   "execution_count": 8,
   "metadata": {},
   "outputs": [
    {
     "data": {
      "text/plain": [
       "SelectKBest(k='all', score_func=<function chi2 at 0x1a09ceb0d0>)"
      ]
     },
     "execution_count": 8,
     "metadata": {},
     "output_type": "execute_result"
    }
   ],
   "source": [
    "#new_X = new_X.fillna(value={'OCUPACAO':0})\n",
    "#new_X = new_X.dropna(how='all')\n",
    "\n",
    "# new_X.to_csv('Data/2000-2010/fs_dengue_00_06_dataset.csv', sep = '\\t')\n",
    "kbest_result = SelectKBest(chi2, k='all').fit(new_X, y)\n",
    "kbest_result"
   ]
  },
  {
   "cell_type": "code",
   "execution_count": 11,
   "metadata": {},
   "outputs": [
    {
     "name": "stdout",
     "output_type": "stream",
     "text": [
      "2613\n"
     ]
    }
   ],
   "source": [
    "print(len(kbest_result.scores_))\n",
    "#kbest_result.scores_"
   ]
  },
  {
   "cell_type": "code",
   "execution_count": 12,
   "metadata": {},
   "outputs": [
    {
     "name": "stdout",
     "output_type": "stream",
     "text": [
      "2613\n"
     ]
    }
   ],
   "source": [
    "print(len(kbest_result.pvalues_))\n",
    "#kbest_result.pvalues_"
   ]
  },
  {
   "cell_type": "code",
   "execution_count": null,
   "metadata": {},
   "outputs": [],
   "source": []
  }
 ],
 "metadata": {
  "kernelspec": {
   "display_name": "Python 3",
   "language": "python",
   "name": "python3"
  },
  "language_info": {
   "codemirror_mode": {
    "name": "ipython",
    "version": 3
   },
   "file_extension": ".py",
   "mimetype": "text/x-python",
   "name": "python",
   "nbconvert_exporter": "python",
   "pygments_lexer": "ipython3",
   "version": "3.6.5"
  }
 },
 "nbformat": 4,
 "nbformat_minor": 2
}
