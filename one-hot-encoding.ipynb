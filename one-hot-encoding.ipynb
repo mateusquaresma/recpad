{
 "cells": [
  {
   "cell_type": "code",
   "execution_count": 1,
   "metadata": {},
   "outputs": [],
   "source": [
    "import numpy as np\n",
    "import pandas as pd"
   ]
  },
  {
   "cell_type": "code",
   "execution_count": 2,
   "metadata": {},
   "outputs": [
    {
     "name": "stderr",
     "output_type": "stream",
     "text": [
      "/usr/local/anaconda3/lib/python3.6/site-packages/IPython/core/interactiveshell.py:2785: DtypeWarning: Columns (7,11,15,17,25,27,29,31,43,51,63,64,66,67,70,71,73,74,75,77,78,79,80,97,107,108,110) have mixed types. Specify dtype option on import or set low_memory=False.\n",
      "  interactivity=interactivity, compiler=compiler, result=result)\n"
     ]
    }
   ],
   "source": [
    "data = pd.read_csv('data/2000-2010/dengue_2001_dataset.csv', sep = ',', encoding='cp1252')\n",
    "# data = data.dropna(axis = 1, how = 'all')\n",
    "# data.head(5)\n",
    "# data.to_hdf('data/2000-2010/dengue_2001_dataset.hdf')\n",
    "# data = pd.read_hdf('data/2000-2010/dengue_2001_dataset.hdf', sep = ',', encoding='cp1252')"
   ]
  },
  {
   "cell_type": "code",
   "execution_count": 3,
   "metadata": {},
   "outputs": [
    {
     "name": "stdout",
     "output_type": "stream",
     "text": [
      "(488590, 113)\n"
     ]
    }
   ],
   "source": [
    "categorical_features = [\n",
    "    'CS_RACA',\n",
    "    'CS_ESCOLAR',\n",
    "    'SG_UF_NOT',\n",
    "    'CS_SEXO',\n",
    "    'ID_BAIRRO',\n",
    "    'ID_MN_RESI',\n",
    "    'CS_ZONA',\n",
    "    'SG_UF',\n",
    "    'ID_PAIS',\n",
    "    'DENGUE',\n",
    "    'VACINADO',\n",
    "    'FEBRE',\n",
    "    'LACO',\n",
    "    'CEFALEIA',\n",
    "    'EXANTEMA',\n",
    "    'DOR',\n",
    "    'PROSTACAO',\n",
    "    'MIALGIA',\n",
    "    'NAUSEAS',\n",
    "    'ARTRALGIA',\n",
    "    'DIARREIA',\n",
    "    'OUTROS',\n",
    "    'EPISTAXE',\n",
    "    'PETEQUIAS',\n",
    "    'GENGIVO',\n",
    "    'METRO',\n",
    "    'HEMATURA',\n",
    "    'SANGRAM',\n",
    "    'OUTROS_M',\n",
    "    'ASCITE',\n",
    "    'PLEURAL',\n",
    "    'PERICARDI',\n",
    "    'ABDOMINAL',\n",
    "    'HEPATO',\n",
    "    'MIOCARDI',\n",
    "    'HIPOTENSAO',\n",
    "    'CHOQUE',\n",
    "    'MANIFESTA',\n",
    "    'INSUFICIEN',\n",
    "    'OUTRO_S',\n",
    "    'HOSPITALIZ',\n",
    "    'UF',\n",
    "    'S1_IGM',\n",
    "    'S1_IGG',\n",
    "    'MATERIAL',\n",
    "    'SORO1',\n",
    "    'SORO2',\n",
    "    'TECIDOS',\n",
    "    'HISTOPA',\n",
    "    'IMUNOH',\n",
    "    'RESUL_PCR',\n",
    "    'AMOS_OUT',\n",
    "    'RESUL_OUT',\n",
    "    'CON_CLASSI',\n",
    "    'CON_CRITER',\n",
    "    'CON_INF_UF',\n",
    "    'CON_INF_PA',\n",
    "    'CON_DOENCA',\n",
    "    'CON_EVOLUC',\n",
    "    'ID_MUNICIP',\n",
    "    'ID_UNIDADE',\n",
    "    'ID_DG_NOT',\n",
    "    'ID_EV_NOT',\n",
    "    'OCUPACAO',\n",
    "    'SIN_OUT',\n",
    "    'OUTROS_M_D',\n",
    "    'MUNICIPIO',\n",
    "    'CON_INF_MU',\n",
    "    'NDUPLIC',\n",
    "    'NU_LOTE',\n",
    "]\n",
    "\n",
    "print(data.shape)\n"
   ]
  },
  {
   "cell_type": "code",
   "execution_count": 4,
   "metadata": {},
   "outputs": [],
   "source": [
    "for feature in categorical_features:\n",
    "    data[feature] = data[feature].astype('category') \n",
    "    dummies = pd.get_dummies(data[feature], prefix=feature, prefix_sep='_')\n",
    "    data = data.drop(feature, axis = 1)\n",
    "    data = data.join(dummies)"
   ]
  },
  {
   "cell_type": "code",
   "execution_count": 5,
   "metadata": {},
   "outputs": [
    {
     "name": "stdout",
     "output_type": "stream",
     "text": [
      "(488590, 6809)\n"
     ]
    }
   ],
   "source": [
    "print(data.shape)"
   ]
  },
  {
   "cell_type": "code",
   "execution_count": 6,
   "metadata": {},
   "outputs": [],
   "source": [
    "# data.head(5)"
   ]
  },
  {
   "cell_type": "code",
   "execution_count": 7,
   "metadata": {},
   "outputs": [],
   "source": [
    "# df = pd.DataFrame({'A': ['a', 'b', 'c'], 'B': ['b', 'a', 'c']})\n",
    "# print(df)\n",
    "# dummies_2 = pd.get_dummies(df['B'], prefix='B', prefix_sep='_')\n",
    "# print(dummies_2)\n",
    "# df = df.drop('B', axis = 1)\n",
    "# df = df.join(dummies_2)\n",
    "# print(df)"
   ]
  },
  {
   "cell_type": "code",
   "execution_count": 8,
   "metadata": {},
   "outputs": [],
   "source": [
    "data.to_csv('data/2000-2010/dengue_2001_dataset_ohe.csv')"
   ]
  },
  {
   "cell_type": "code",
   "execution_count": null,
   "metadata": {},
   "outputs": [],
   "source": []
  }
 ],
 "metadata": {
  "kernelspec": {
   "display_name": "Python 3",
   "language": "python",
   "name": "python3"
  },
  "language_info": {
   "codemirror_mode": {
    "name": "ipython",
    "version": 3
   },
   "file_extension": ".py",
   "mimetype": "text/x-python",
   "name": "python",
   "nbconvert_exporter": "python",
   "pygments_lexer": "ipython3",
   "version": "3.6.5"
  }
 },
 "nbformat": 4,
 "nbformat_minor": 2
}
